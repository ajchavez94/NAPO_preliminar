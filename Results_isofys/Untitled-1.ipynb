{
 "cells": [
  {
   "cell_type": "code",
   "execution_count": 2,
   "id": "ba9e913b",
   "metadata": {},
   "outputs": [],
   "source": [
    "import pandas as pd"
   ]
  },
  {
   "cell_type": "code",
   "execution_count": 7,
   "id": "84341711",
   "metadata": {},
   "outputs": [],
   "source": [
    "sv = pd.read_excel(\"04. Rasgos_SelvaViva.xlsx\")\n",
    "gal = pd.read_excel(\"03. Rasgos Galeras.xlsx\")\n",
    "gua = pd.read_excel(\"02. Rasgos Guacamayos.xlsx\")\n",
    "oyc = pd.read_excel(\"01. Rasgos_Oyacachi.xlsx\")\n",
    "\n",
    "all = pd.concat([sv,gal,gua,oyc])\n",
    "all.to_excel(\"test.xlsx\")"
   ]
  }
 ],
 "metadata": {
  "kernelspec": {
   "display_name": "base",
   "language": "python",
   "name": "python3"
  },
  "language_info": {
   "codemirror_mode": {
    "name": "ipython",
    "version": 3
   },
   "file_extension": ".py",
   "mimetype": "text/x-python",
   "name": "python",
   "nbconvert_exporter": "python",
   "pygments_lexer": "ipython3",
   "version": "3.11.4"
  }
 },
 "nbformat": 4,
 "nbformat_minor": 5
}
